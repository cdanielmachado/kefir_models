{
 "cells": [
  {
   "cell_type": "code",
   "execution_count": null,
   "metadata": {},
   "outputs": [],
   "source": [
    "import pandas as pd\n",
    "import numpy as np\n",
    "from scipy.stats import hypergeom\n",
    "from goatools import obo_parser"
   ]
  },
  {
   "cell_type": "markdown",
   "metadata": {},
   "source": [
    "### Select strain"
   ]
  },
  {
   "cell_type": "code",
   "execution_count": null,
   "metadata": {},
   "outputs": [],
   "source": [
    "#strain = '322b' # L kefiranofaciens\n",
    "strain = '230a' # L mesenteroides\n",
    "#strain = '261'  # L lacis"
   ]
  },
  {
   "cell_type": "markdown",
   "metadata": {},
   "source": [
    "### Load transcriptomics data"
   ]
  },
  {
   "cell_type": "code",
   "execution_count": null,
   "metadata": {},
   "outputs": [],
   "source": [
    "df = pd.read_excel(\"../transcriptomics/deseq2_results.xlsx\", sheet_name=strain)\n",
    "df[\"gene\"] = df[\"Unnamed: 0\"].apply(lambda x:  \"_\".join(x.split(\"_\")[1:]))\n",
    "df.drop(columns=[\"Unnamed: 0\", \"baseMean\", \"lfcSE\", \"stat\", \"pvalue\", \"color\", \"names\"], inplace=True)"
   ]
  },
  {
   "cell_type": "markdown",
   "metadata": {},
   "source": [
    "### Load eggnog annotations"
   ]
  },
  {
   "cell_type": "code",
   "execution_count": null,
   "metadata": {},
   "outputs": [],
   "source": [
    "df2 = pd.read_csv(f\"../eggnog_annotations/eggnog_{strain}.tsv\", sep=\"\\t\", comment='#', header=None, \n",
    "                  usecols=[0,5,6,7,9,11,14,21], \n",
    "                  names=[\"gene\", \"name\", \"GO\", \"EC\", \"KO\", \"reaction\", \"TC\", \"Description\"])"
   ]
  },
  {
   "cell_type": "code",
   "execution_count": null,
   "metadata": {},
   "outputs": [],
   "source": [
    "df3 = pd.merge(df, df2, on=\"gene\")"
   ]
  },
  {
   "cell_type": "markdown",
   "metadata": {},
   "source": [
    "### Extract GO terms"
   ]
  },
  {
   "cell_type": "code",
   "execution_count": null,
   "metadata": {},
   "outputs": [],
   "source": [
    "entries = []\n",
    "for _, row in df3.dropna(subset=[\"GO\"]).iterrows():\n",
    "    for rxn in row[\"GO\"].split(\",\"):\n",
    "        entries.append((rxn, row[\"log2FoldChange\"], row[\"padj\"]))\n",
    "                       \n",
    "df4 = pd.DataFrame(entries, columns=[\"GO\", \"log2fc\", \"padj\"])"
   ]
  },
  {
   "cell_type": "code",
   "execution_count": null,
   "metadata": {},
   "outputs": [],
   "source": [
    "go_terms = obo_parser.GODag(\"../misc_data/go-basic.obo\", load_obsolete=True)"
   ]
  },
  {
   "cell_type": "markdown",
   "metadata": {},
   "source": [
    "### Perform hypergeometric tests"
   ]
  },
  {
   "cell_type": "code",
   "execution_count": null,
   "metadata": {
    "scrolled": true
   },
   "outputs": [],
   "source": [
    "M = len(df4)\n",
    "n_up = len(df4.query(\"log2fc > 1 and padj < 0.05\"))\n",
    "n_down = len(df4.query(\"log2fc < -1 and padj < 0.05\"))\n",
    "\n",
    "entries_up = []\n",
    "entries_down = []\n",
    "\n",
    "for go in sorted(set(df4[\"GO\"])):\n",
    "    dfi = df4.query(\"GO == @go\")\n",
    "    name = go_terms[go].name \n",
    "    N = len(dfi)\n",
    "\n",
    "    k_up = len(dfi.query(\"log2fc > 1 and padj < 0.05\"))\n",
    "    p_up = hypergeom.sf(k_up-1, M, N, n_up)\n",
    "    entries_up.append((go, k_up, N, p_up, name))\n",
    "\n",
    "    k_down = len(dfi.query(\"log2fc < -1 and padj < 0.05\"))\n",
    "    p_down = hypergeom.sf(k_down-1, M, N, n_down)\n",
    "    entries_down.append((go, k_down, N, p_down, name))\n",
    "    \n",
    "df_up = pd.DataFrame(entries_up, columns=[\"GO\", \"k\", \"n\", \"p_value\", \"description\"])\n",
    "df_down = pd.DataFrame(entries_down, columns=[\"GO\", \"k\", \"n\", \"p_value\", \"description\"])"
   ]
  },
  {
   "cell_type": "markdown",
   "metadata": {},
   "source": [
    "### Filter significant cases and save results"
   ]
  },
  {
   "cell_type": "code",
   "execution_count": null,
   "metadata": {},
   "outputs": [],
   "source": [
    "df_up = df_up.query(\"p_value < 0.05\").sort_values(\"p_value\")\n",
    "df_down = df_down.query(\"p_value < 0.05\").sort_values(\"p_value\")"
   ]
  },
  {
   "cell_type": "code",
   "execution_count": null,
   "metadata": {},
   "outputs": [],
   "source": [
    "df_up.to_excel(f\"../go_term_enrichment/up_{strain}.xlsx\", index=False)\n",
    "df_down.to_excel(f\"../go_term_enrichment/down_{strain}.xlsx\", index=False)"
   ]
  },
  {
   "cell_type": "code",
   "execution_count": null,
   "metadata": {},
   "outputs": [],
   "source": []
  }
 ],
 "metadata": {
  "kernelspec": {
   "display_name": "Python 3",
   "language": "python",
   "name": "python3"
  },
  "language_info": {
   "codemirror_mode": {
    "name": "ipython",
    "version": 3
   },
   "file_extension": ".py",
   "mimetype": "text/x-python",
   "name": "python",
   "nbconvert_exporter": "python",
   "pygments_lexer": "ipython3",
   "version": "3.6.8"
  }
 },
 "nbformat": 4,
 "nbformat_minor": 2
}

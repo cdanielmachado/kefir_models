{
 "cells": [
  {
   "cell_type": "code",
   "execution_count": null,
   "metadata": {},
   "outputs": [],
   "source": [
    "import pandas as pd\n",
    "import numpy as np\n",
    "from matplotlib.cm import ScalarMappable\n",
    "from matplotlib.colors import to_hex, Normalize, ListedColormap\n",
    "from reframed import load_cbmodel\n",
    "from reframed.alpha.MARGE2 import marge\n",
    "import seaborn as sns"
   ]
  },
  {
   "cell_type": "markdown",
   "metadata": {},
   "source": [
    "### Select strain"
   ]
  },
  {
   "cell_type": "code",
   "execution_count": null,
   "metadata": {},
   "outputs": [],
   "source": [
    "strain = '322b' # L kefiranofaciens\n",
    "#strain = '230a' # L mesenteroides\n",
    "#strain = '261'  # L lacis"
   ]
  },
  {
   "cell_type": "markdown",
   "metadata": {},
   "source": [
    "### Load gene expression data"
   ]
  },
  {
   "cell_type": "code",
   "execution_count": null,
   "metadata": {},
   "outputs": [],
   "source": [
    "df = pd.read_excel(\"../transcriptomics/deseq2_results.xlsx\", sheet_name=strain)\n",
    "df[\"gene\"] = df[\"Unnamed: 0\"].apply(lambda x:  \"_\".join(x.split(\"_\")[1:]))\n",
    "df.drop(columns=[\"Unnamed: 0\", \"baseMean\", \"lfcSE\", \"stat\", \"pvalue\", \"color\", \"names\"], inplace=True)"
   ]
  },
  {
   "cell_type": "code",
   "execution_count": null,
   "metadata": {},
   "outputs": [],
   "source": [
    "rel_expr = {x[\"gene\"]: 2**x[\"log2FoldChange\"] for _, x in df.iterrows() if x[\"padj\"] < 0.05}"
   ]
  },
  {
   "cell_type": "markdown",
   "metadata": {},
   "source": [
    "### Load model"
   ]
  },
  {
   "cell_type": "code",
   "execution_count": null,
   "metadata": {},
   "outputs": [],
   "source": [
    "model = load_cbmodel(f\"../models/{strain}_03182016.xml\", flavor=\"cobra\")"
   ]
  },
  {
   "cell_type": "markdown",
   "metadata": {},
   "source": [
    "### Estimate co-culture fluxes \n",
    "\n",
    "Based on the MARGE approach (Metabolic Analysis with Relative Gene Expression)\n",
    "\n",
    "Uses mono-culture as the reference state and integrates relative gene expression levels between co-cultures and mono-cultures"
   ]
  },
  {
   "cell_type": "code",
   "execution_count": null,
   "metadata": {},
   "outputs": [],
   "source": [
    "v1, v2, sol1, sol2 = marge(model, rel_expr, transformed=False, \n",
    "                           growth_frac_a=0.9, growth_frac_b=0.3, activation=0.1)"
   ]
  },
  {
   "cell_type": "code",
   "execution_count": null,
   "metadata": {},
   "outputs": [],
   "source": [
    "entries = []\n",
    "for rxn in model.reactions:\n",
    "    f1 = abs(v1[rxn])\n",
    "    f2 = abs(v2[rxn])\n",
    "    if f1 > 0:\n",
    "        if f2 > 0:\n",
    "            fc = np.log2(f2/f1)\n",
    "        else:\n",
    "            fc = -10\n",
    "    else:\n",
    "        if f2 > 0:\n",
    "            fc = 10\n",
    "        else:\n",
    "            fc = 0\n",
    "    entries.append((rxn, v1[rxn], v2[rxn], fc))\n",
    "fluxes = pd.DataFrame(entries, columns=[\"bigg\", \"v1\", \"v2\", \"fc\"])"
   ]
  },
  {
   "cell_type": "markdown",
   "metadata": {},
   "source": [
    "### Map to KEGG reactions using MetaNetX"
   ]
  },
  {
   "cell_type": "code",
   "execution_count": null,
   "metadata": {},
   "outputs": [],
   "source": [
    "mnx = pd.read_csv(\"../misc_data/reac_xref.tsv\", sep=\"\\t\", comment='#', \n",
    "                  usecols=[0,1], header=None, names=[\"ext\", \"int\"])"
   ]
  },
  {
   "cell_type": "code",
   "execution_count": null,
   "metadata": {},
   "outputs": [],
   "source": [
    "bigg = mnx[mnx[\"ext\"].str.startswith(\"bigg:R_\")].copy()\n",
    "bigg[\"bigg\"] = bigg[\"ext\"].apply(lambda x: x[5:])\n",
    "kegg = mnx[mnx[\"ext\"].str.startswith(\"kegg:\")].copy()\n",
    "kegg[\"kegg\"] = kegg[\"ext\"].apply(lambda x: x[5:])\n",
    "bigg2kegg = pd.merge(bigg, kegg, on=\"int\")\n",
    "del bigg2kegg[\"ext_x\"]\n",
    "del bigg2kegg[\"ext_y\"]\n",
    "del bigg2kegg[\"int\"]"
   ]
  },
  {
   "cell_type": "code",
   "execution_count": null,
   "metadata": {},
   "outputs": [],
   "source": [
    "fluxes = pd.merge(fluxes, bigg2kegg, on=\"bigg\")"
   ]
  },
  {
   "cell_type": "code",
   "execution_count": null,
   "metadata": {},
   "outputs": [],
   "source": [
    "fluxes = fluxes.groupby(\"kegg\").agg({\"fc\": np.mean})"
   ]
  },
  {
   "cell_type": "markdown",
   "metadata": {},
   "source": [
    "## Draw in iPATH"
   ]
  },
  {
   "cell_type": "code",
   "execution_count": null,
   "metadata": {},
   "outputs": [],
   "source": [
    "cmap = ListedColormap(sns.color_palette(\"RdYlBu_r\", n_colors=100))\n",
    "mapper = ScalarMappable(norm=Normalize(-3, 3), cmap=cmap)\n",
    "fluxes[\"color\"] = fluxes[\"fc\"].apply(lambda x: to_hex(mapper.to_rgba(x)))\n",
    "fluxes[\"width\"] = \"W20\"\n",
    "fluxes[[\"color\", \"width\"]].to_csv(f\"../iPATH/{strain}.tsv\", sep=\"\\t\", header=False)"
   ]
  },
  {
   "cell_type": "markdown",
   "metadata": {},
   "source": [
    "The resulting TSV files can be uploaded in https://pathways.embl.de/ipath3.cgi?map=metabolic to generate the flux maps."
   ]
  },
  {
   "cell_type": "code",
   "execution_count": null,
   "metadata": {},
   "outputs": [],
   "source": []
  }
 ],
 "metadata": {
  "kernelspec": {
   "display_name": "Python 3",
   "language": "python",
   "name": "python3"
  },
  "language_info": {
   "codemirror_mode": {
    "name": "ipython",
    "version": 3
   },
   "file_extension": ".py",
   "mimetype": "text/x-python",
   "name": "python",
   "nbconvert_exporter": "python",
   "pygments_lexer": "ipython3",
   "version": "3.6.8"
  }
 },
 "nbformat": 4,
 "nbformat_minor": 2
}
